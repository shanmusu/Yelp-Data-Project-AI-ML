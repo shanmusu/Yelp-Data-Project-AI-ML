{
 "cells": [
  {
   "cell_type": "code",
   "execution_count": 3,
   "metadata": {
    "collapsed": false
   },
   "outputs": [],
   "source": [
    "import pandas as pd\n",
    "df = pd.read_csv(\"Phoenix_restaurant_review_Results.csv\", encoding=\"latin1\")"
   ]
  },
  {
   "cell_type": "code",
   "execution_count": 4,
   "metadata": {
    "collapsed": false
   },
   "outputs": [
    {
     "data": {
      "text/plain": [
       "(4546, 7)"
      ]
     },
     "execution_count": 4,
     "metadata": {},
     "output_type": "execute_result"
    }
   ],
   "source": [
    "df.shape"
   ]
  },
  {
   "cell_type": "code",
   "execution_count": 5,
   "metadata": {
    "collapsed": false
   },
   "outputs": [],
   "source": [
    "average_pscore = []\n",
    "for row in df.iterrows():\n",
    "    average_pscore = (df['positive_polarity'] + df['negative_polarity']) /2"
   ]
  },
  {
   "cell_type": "code",
   "execution_count": 6,
   "metadata": {
    "collapsed": false
   },
   "outputs": [
    {
     "data": {
      "text/plain": [
       "4546"
      ]
     },
     "execution_count": 6,
     "metadata": {},
     "output_type": "execute_result"
    }
   ],
   "source": [
    "len(average_pscore)"
   ]
  },
  {
   "cell_type": "code",
   "execution_count": 7,
   "metadata": {
    "collapsed": false
   },
   "outputs": [],
   "source": [
    "df['average_pscore'] = average_pscore"
   ]
  },
  {
   "cell_type": "code",
   "execution_count": 8,
   "metadata": {
    "collapsed": false,
    "scrolled": false
   },
   "outputs": [
    {
     "data": {
      "text/html": [
       "<div>\n",
       "<table border=\"1\" class=\"dataframe\">\n",
       "  <thead>\n",
       "    <tr style=\"text-align: right;\">\n",
       "      <th></th>\n",
       "      <th>business_id</th>\n",
       "      <th>review_text</th>\n",
       "      <th>review_star</th>\n",
       "      <th>positive_phrases</th>\n",
       "      <th>positive_polarity</th>\n",
       "      <th>negative_phrases</th>\n",
       "      <th>negative_polarity</th>\n",
       "      <th>average_pscore</th>\n",
       "    </tr>\n",
       "  </thead>\n",
       "  <tbody>\n",
       "    <tr>\n",
       "      <th>0</th>\n",
       "      <td>jKhfsXol4FxbRjK8aUsLA</td>\n",
       "      <td>Well I wish I could say something positive but...</td>\n",
       "      <td>1</td>\n",
       "      <td>[]</td>\n",
       "      <td>0.000000</td>\n",
       "      <td>[u' little ceasers', u\" n't happy\"]</td>\n",
       "      <td>-0.5875</td>\n",
       "      <td>-0.293750</td>\n",
       "    </tr>\n",
       "    <tr>\n",
       "      <th>1</th>\n",
       "      <td>jKhfsXol4FxbRjK8aUsLA</td>\n",
       "      <td>My kids insisted on trying the Bacon Wrapped D...</td>\n",
       "      <td>3</td>\n",
       "      <td>[u' not bad', u' good option', u' quick meal']</td>\n",
       "      <td>1.383333</td>\n",
       "      <td>[]</td>\n",
       "      <td>0.0000</td>\n",
       "      <td>0.691667</td>\n",
       "    </tr>\n",
       "    <tr>\n",
       "      <th>2</th>\n",
       "      <td>jKhfsXol4FxbRjK8aUsLA</td>\n",
       "      <td>Worst customer service from the little girl wh...</td>\n",
       "      <td>1</td>\n",
       "      <td>[]</td>\n",
       "      <td>0.000000</td>\n",
       "      <td>[u' little girl', u' small joint']</td>\n",
       "      <td>-0.4375</td>\n",
       "      <td>-0.218750</td>\n",
       "    </tr>\n",
       "    <tr>\n",
       "      <th>3</th>\n",
       "      <td>jKhfsXol4FxbRjK8aUsLA</td>\n",
       "      <td>Strange, as a kid for I remember that I did no...</td>\n",
       "      <td>4</td>\n",
       "      <td>[u' wonderfully good']</td>\n",
       "      <td>0.700000</td>\n",
       "      <td>[u' thick crust']</td>\n",
       "      <td>-0.3000</td>\n",
       "      <td>0.200000</td>\n",
       "    </tr>\n",
       "    <tr>\n",
       "      <th>4</th>\n",
       "      <td>jKhfsXol4FxbRjK8aUsLA</td>\n",
       "      <td>Best $8 deep dish pizza I have had in a while....</td>\n",
       "      <td>5</td>\n",
       "      <td>[u' easy meal']</td>\n",
       "      <td>0.433333</td>\n",
       "      <td>[]</td>\n",
       "      <td>0.0000</td>\n",
       "      <td>0.216667</td>\n",
       "    </tr>\n",
       "  </tbody>\n",
       "</table>\n",
       "</div>"
      ],
      "text/plain": [
       "             business_id                                        review_text  \\\n",
       "0  jKhfsXol4FxbRjK8aUsLA  Well I wish I could say something positive but...   \n",
       "1  jKhfsXol4FxbRjK8aUsLA  My kids insisted on trying the Bacon Wrapped D...   \n",
       "2  jKhfsXol4FxbRjK8aUsLA  Worst customer service from the little girl wh...   \n",
       "3  jKhfsXol4FxbRjK8aUsLA  Strange, as a kid for I remember that I did no...   \n",
       "4  jKhfsXol4FxbRjK8aUsLA  Best $8 deep dish pizza I have had in a while....   \n",
       "\n",
       "   review_star                                positive_phrases  \\\n",
       "0            1                                              []   \n",
       "1            3  [u' not bad', u' good option', u' quick meal']   \n",
       "2            1                                              []   \n",
       "3            4                          [u' wonderfully good']   \n",
       "4            5                                 [u' easy meal']   \n",
       "\n",
       "   positive_polarity                     negative_phrases  negative_polarity  \\\n",
       "0           0.000000  [u' little ceasers', u\" n't happy\"]            -0.5875   \n",
       "1           1.383333                                   []             0.0000   \n",
       "2           0.000000   [u' little girl', u' small joint']            -0.4375   \n",
       "3           0.700000                    [u' thick crust']            -0.3000   \n",
       "4           0.433333                                   []             0.0000   \n",
       "\n",
       "   average_pscore  \n",
       "0       -0.293750  \n",
       "1        0.691667  \n",
       "2       -0.218750  \n",
       "3        0.200000  \n",
       "4        0.216667  "
      ]
     },
     "execution_count": 8,
     "metadata": {},
     "output_type": "execute_result"
    }
   ],
   "source": [
    "df.head()"
   ]
  },
  {
   "cell_type": "code",
   "execution_count": 9,
   "metadata": {
    "collapsed": false
   },
   "outputs": [
    {
     "data": {
      "text/plain": [
       "4546"
      ]
     },
     "execution_count": 9,
     "metadata": {},
     "output_type": "execute_result"
    }
   ],
   "source": [
    "average_pscore = list(df['average_pscore'])\n",
    "len(average_pscore)"
   ]
  },
  {
   "cell_type": "code",
   "execution_count": 10,
   "metadata": {
    "collapsed": false
   },
   "outputs": [],
   "source": [
    "polarity_labels = []\n",
    "for val in average_pscore:\n",
    "    if val < 0:\n",
    "        polarity_labels.append('Bad')\n",
    "    else:\n",
    "        polarity_labels.append('Good')"
   ]
  },
  {
   "cell_type": "code",
   "execution_count": 11,
   "metadata": {
    "collapsed": false
   },
   "outputs": [
    {
     "data": {
      "text/plain": [
       "4546"
      ]
     },
     "execution_count": 11,
     "metadata": {},
     "output_type": "execute_result"
    }
   ],
   "source": [
    "len(polarity_labels) "
   ]
  },
  {
   "cell_type": "code",
   "execution_count": 12,
   "metadata": {
    "collapsed": false
   },
   "outputs": [],
   "source": [
    "df['polarity_labels'] = polarity_labels"
   ]
  },
  {
   "cell_type": "code",
   "execution_count": 13,
   "metadata": {
    "collapsed": false
   },
   "outputs": [
    {
     "data": {
      "text/html": [
       "<div>\n",
       "<table border=\"1\" class=\"dataframe\">\n",
       "  <thead>\n",
       "    <tr style=\"text-align: right;\">\n",
       "      <th></th>\n",
       "      <th>business_id</th>\n",
       "      <th>review_text</th>\n",
       "      <th>review_star</th>\n",
       "      <th>positive_phrases</th>\n",
       "      <th>positive_polarity</th>\n",
       "      <th>negative_phrases</th>\n",
       "      <th>negative_polarity</th>\n",
       "      <th>average_pscore</th>\n",
       "      <th>polarity_labels</th>\n",
       "    </tr>\n",
       "  </thead>\n",
       "  <tbody>\n",
       "    <tr>\n",
       "      <th>0</th>\n",
       "      <td>jKhfsXol4FxbRjK8aUsLA</td>\n",
       "      <td>Well I wish I could say something positive but...</td>\n",
       "      <td>1</td>\n",
       "      <td>[]</td>\n",
       "      <td>0.000000</td>\n",
       "      <td>[u' little ceasers', u\" n't happy\"]</td>\n",
       "      <td>-0.5875</td>\n",
       "      <td>-0.293750</td>\n",
       "      <td>Bad</td>\n",
       "    </tr>\n",
       "    <tr>\n",
       "      <th>1</th>\n",
       "      <td>jKhfsXol4FxbRjK8aUsLA</td>\n",
       "      <td>My kids insisted on trying the Bacon Wrapped D...</td>\n",
       "      <td>3</td>\n",
       "      <td>[u' not bad', u' good option', u' quick meal']</td>\n",
       "      <td>1.383333</td>\n",
       "      <td>[]</td>\n",
       "      <td>0.0000</td>\n",
       "      <td>0.691667</td>\n",
       "      <td>Good</td>\n",
       "    </tr>\n",
       "    <tr>\n",
       "      <th>2</th>\n",
       "      <td>jKhfsXol4FxbRjK8aUsLA</td>\n",
       "      <td>Worst customer service from the little girl wh...</td>\n",
       "      <td>1</td>\n",
       "      <td>[]</td>\n",
       "      <td>0.000000</td>\n",
       "      <td>[u' little girl', u' small joint']</td>\n",
       "      <td>-0.4375</td>\n",
       "      <td>-0.218750</td>\n",
       "      <td>Bad</td>\n",
       "    </tr>\n",
       "    <tr>\n",
       "      <th>3</th>\n",
       "      <td>jKhfsXol4FxbRjK8aUsLA</td>\n",
       "      <td>Strange, as a kid for I remember that I did no...</td>\n",
       "      <td>4</td>\n",
       "      <td>[u' wonderfully good']</td>\n",
       "      <td>0.700000</td>\n",
       "      <td>[u' thick crust']</td>\n",
       "      <td>-0.3000</td>\n",
       "      <td>0.200000</td>\n",
       "      <td>Good</td>\n",
       "    </tr>\n",
       "    <tr>\n",
       "      <th>4</th>\n",
       "      <td>jKhfsXol4FxbRjK8aUsLA</td>\n",
       "      <td>Best $8 deep dish pizza I have had in a while....</td>\n",
       "      <td>5</td>\n",
       "      <td>[u' easy meal']</td>\n",
       "      <td>0.433333</td>\n",
       "      <td>[]</td>\n",
       "      <td>0.0000</td>\n",
       "      <td>0.216667</td>\n",
       "      <td>Good</td>\n",
       "    </tr>\n",
       "  </tbody>\n",
       "</table>\n",
       "</div>"
      ],
      "text/plain": [
       "             business_id                                        review_text  \\\n",
       "0  jKhfsXol4FxbRjK8aUsLA  Well I wish I could say something positive but...   \n",
       "1  jKhfsXol4FxbRjK8aUsLA  My kids insisted on trying the Bacon Wrapped D...   \n",
       "2  jKhfsXol4FxbRjK8aUsLA  Worst customer service from the little girl wh...   \n",
       "3  jKhfsXol4FxbRjK8aUsLA  Strange, as a kid for I remember that I did no...   \n",
       "4  jKhfsXol4FxbRjK8aUsLA  Best $8 deep dish pizza I have had in a while....   \n",
       "\n",
       "   review_star                                positive_phrases  \\\n",
       "0            1                                              []   \n",
       "1            3  [u' not bad', u' good option', u' quick meal']   \n",
       "2            1                                              []   \n",
       "3            4                          [u' wonderfully good']   \n",
       "4            5                                 [u' easy meal']   \n",
       "\n",
       "   positive_polarity                     negative_phrases  negative_polarity  \\\n",
       "0           0.000000  [u' little ceasers', u\" n't happy\"]            -0.5875   \n",
       "1           1.383333                                   []             0.0000   \n",
       "2           0.000000   [u' little girl', u' small joint']            -0.4375   \n",
       "3           0.700000                    [u' thick crust']            -0.3000   \n",
       "4           0.433333                                   []             0.0000   \n",
       "\n",
       "   average_pscore polarity_labels  \n",
       "0       -0.293750             Bad  \n",
       "1        0.691667            Good  \n",
       "2       -0.218750             Bad  \n",
       "3        0.200000            Good  \n",
       "4        0.216667            Good  "
      ]
     },
     "execution_count": 13,
     "metadata": {},
     "output_type": "execute_result"
    }
   ],
   "source": [
    "df.head()"
   ]
  },
  {
   "cell_type": "code",
   "execution_count": 14,
   "metadata": {
    "collapsed": false,
    "scrolled": false
   },
   "outputs": [
    {
     "data": {
      "text/plain": [
       "<matplotlib.text.Text at 0xdb71898>"
      ]
     },
     "execution_count": 14,
     "metadata": {},
     "output_type": "execute_result"
    },
    {
     "data": {
      "image/png": "[encoded data removed]",
      "text/plain": [
       "<matplotlib.figure.Figure at 0xda165f8>"
      ]
     },
     "metadata": {},
     "output_type": "display_data"
    }
   ],
   "source": [
    "%matplotlib inline\n",
    "import matplotlib.pyplot as plt\n",
    "import seaborn as sns\n",
    "sns.set(style=\"ticks\")\n",
    "sns.lmplot('review_star','average_pscore',data=df, fit_reg=True)\n",
    "\n",
    "plt.xlabel(\"Star Ratings\")\n",
    "plt.ylabel(\"Polarity Scores\")\n",
    "plt.title(\"Correlation Plot for Reviews in Phoenix\")"
   ]
  },
  {
   "cell_type": "code",
   "execution_count": 15,
   "metadata": {
    "collapsed": false
   },
   "outputs": [
    {
     "data": {
      "text/plain": [
       "-1.7214285715000002"
      ]
     },
     "execution_count": 15,
     "metadata": {},
     "output_type": "execute_result"
    }
   ],
   "source": [
    "df['average_pscore'].min()"
   ]
  },
  {
   "cell_type": "code",
   "execution_count": 16,
   "metadata": {
    "collapsed": false
   },
   "outputs": [],
   "source": [
    "from sklearn.svm import SVC\n",
    "from sklearn.model_selection import train_test_split\n",
    "from sklearn.metrics import accuracy_score, confusion_matrix, f1_score"
   ]
  },
  {
   "cell_type": "code",
   "execution_count": 17,
   "metadata": {
    "collapsed": false
   },
   "outputs": [
    {
     "data": {
      "text/plain": [
       "(4546L,)"
      ]
     },
     "execution_count": 17,
     "metadata": {},
     "output_type": "execute_result"
    }
   ],
   "source": [
    "X = df[['review_star','average_pscore']]\n",
    "y = df['polarity_labels']\n",
    "X.shape\n",
    "y.shape"
   ]
  },
  {
   "cell_type": "code",
   "execution_count": 19,
   "metadata": {
    "collapsed": false
   },
   "outputs": [
    {
     "data": {
      "text/plain": [
       "0.99890109890109891"
      ]
     },
     "execution_count": 19,
     "metadata": {},
     "output_type": "execute_result"
    }
   ],
   "source": [
    "X_train, X_test, y_train, y_test = train_test_split(X, y, test_size=0.2,random_state=3057)\n",
    "\n",
    "clf = SVC(C=0.5, kernel=\"linear\")\n",
    "clf.fit(X_train, y_train)\n",
    "y_pred = clf.predict(X_test)\n",
    "\n",
    "accuracy_score(y_test, y_pred)"
   ]
  },
  {
   "cell_type": "code",
   "execution_count": 20,
   "metadata": {
    "collapsed": false
   },
   "outputs": [
    {
     "name": "stdout",
     "output_type": "stream",
     "text": [
      "['Good' 'Good' 'Good' 'Good' 'Good']\n",
      "**************************************************\n",
      "2135    Good\n",
      "3274    Good\n",
      "969     Good\n",
      "838     Good\n",
      "3918    Good\n",
      "Name: polarity_labels, dtype: object\n"
     ]
    }
   ],
   "source": [
    "print(y_pred[:5])\n",
    "print('*'*50)\n",
    "print(y_test[:5])"
   ]
  },
  {
   "cell_type": "code",
   "execution_count": 21,
   "metadata": {
    "collapsed": false
   },
   "outputs": [
    {
     "name": "stdout",
     "output_type": "stream",
     "text": [
      "Counter({'Good': 763, 'Bad': 147})\n"
     ]
    }
   ],
   "source": [
    "from collections import Counter\n",
    "print(Counter(y_test))"
   ]
  },
  {
   "cell_type": "code",
   "execution_count": 31,
   "metadata": {
    "collapsed": false
   },
   "outputs": [
    {
     "data": {
      "text/plain": [
       "0.8384615384615385"
      ]
     },
     "execution_count": 31,
     "metadata": {},
     "output_type": "execute_result"
    }
   ],
   "source": [
    "float(763)/ (763+147)"
   ]
  },
  {
   "cell_type": "markdown",
   "metadata": {},
   "source": [
    "A dummy classifier that guess the majority label (Good reviews) would get an accuracy of 83.84%. "
   ]
  },
  {
   "cell_type": "code",
   "execution_count": 32,
   "metadata": {
    "collapsed": false
   },
   "outputs": [
    {
     "data": {
      "text/plain": [
       "array([[147,   0],\n",
       "       [  1, 762]])"
      ]
     },
     "execution_count": 32,
     "metadata": {},
     "output_type": "execute_result"
    }
   ],
   "source": [
    "confusion_matrix(y_test, y_pred)"
   ]
  },
  {
   "cell_type": "markdown",
   "metadata": {},
   "source": [
    "Of the Bad reviews, all 147 were classified correctly and 0 incorrectly.\n",
    "\n",
    "Of the Good reviews, 762 were classified correctly and 1 incorrectly."
   ]
  },
  {
   "cell_type": "code",
   "execution_count": 33,
   "metadata": {
    "collapsed": false
   },
   "outputs": [
    {
     "data": {
      "text/plain": [
       "array([ 0.99661017,  0.99934426])"
      ]
     },
     "execution_count": 33,
     "metadata": {},
     "output_type": "execute_result"
    }
   ],
   "source": [
    "f1_score(y_test, y_pred, average=None)"
   ]
  },
  {
   "cell_type": "code",
   "execution_count": 34,
   "metadata": {
    "collapsed": false
   },
   "outputs": [
    {
     "name": "stdout",
     "output_type": "stream",
     "text": [
      "Average accuracy, 6-fold cross validation:\n",
      "0.918383522316\n"
     ]
    }
   ],
   "source": [
    "from sklearn.naive_bayes import GaussianNB\n",
    "gnb = GaussianNB()\n",
    "\n",
    "from sklearn.model_selection import cross_val_score\n",
    "scores = cross_val_score(gnb, X, y, scoring=\"accuracy\", cv=6)\n",
    "\n",
    "import numpy as np\n",
    "print(\"Average accuracy, 6-fold cross validation:\")\n",
    "print(np.mean(scores))"
   ]
  },
  {
   "cell_type": "code",
   "execution_count": 32,
   "metadata": {
    "collapsed": false
   },
   "outputs": [],
   "source": [
    "df_business = pd.read_csv(\"yelp_restaurants_business_data.csv\")"
   ]
  },
  {
   "cell_type": "code",
   "execution_count": 33,
   "metadata": {
    "collapsed": false
   },
   "outputs": [
    {
     "data": {
      "text/plain": [
       "(3353, 12)"
      ]
     },
     "execution_count": 33,
     "metadata": {},
     "output_type": "execute_result"
    }
   ],
   "source": [
    "df_business.shape"
   ]
  },
  {
   "cell_type": "code",
   "execution_count": 34,
   "metadata": {
    "collapsed": false
   },
   "outputs": [
    {
     "data": {
      "text/html": [
       "<div>\n",
       "<table border=\"1\" class=\"dataframe\">\n",
       "  <thead>\n",
       "    <tr style=\"text-align: right;\">\n",
       "      <th></th>\n",
       "      <th>Unnamed: 0</th>\n",
       "      <th>attributes</th>\n",
       "      <th>business_id</th>\n",
       "      <th>categories</th>\n",
       "      <th>city</th>\n",
       "      <th>hours</th>\n",
       "      <th>is_open</th>\n",
       "      <th>name</th>\n",
       "      <th>postal_code</th>\n",
       "      <th>review_count</th>\n",
       "      <th>stars</th>\n",
       "      <th>state</th>\n",
       "    </tr>\n",
       "  </thead>\n",
       "  <tbody>\n",
       "    <tr>\n",
       "      <th>0</th>\n",
       "      <td>0</td>\n",
       "      <td>['Alcohol: full_bar', \"Ambience: {'romantic': ...</td>\n",
       "      <td>YPavuOh2XsnRbLfl0DH2lQ</td>\n",
       "      <td>['Restaurants', 'Waffles', 'Southern', 'Soul F...</td>\n",
       "      <td>Phoenix</td>\n",
       "      <td>['Monday 9:0-22:0', 'Tuesday 9:0-22:0', 'Wedne...</td>\n",
       "      <td>1</td>\n",
       "      <td>Lo-Lo's Chicken &amp; Waffles</td>\n",
       "      <td>85003.0</td>\n",
       "      <td>1276</td>\n",
       "      <td>4.0</td>\n",
       "      <td>AZ</td>\n",
       "    </tr>\n",
       "    <tr>\n",
       "      <th>1</th>\n",
       "      <td>1</td>\n",
       "      <td>NaN</td>\n",
       "      <td>F53MSa5SYzO9BG8c_JhskQ</td>\n",
       "      <td>['Vietnamese', 'Restaurants']</td>\n",
       "      <td>Phoenix</td>\n",
       "      <td>NaN</td>\n",
       "      <td>0</td>\n",
       "      <td>Pho Viet</td>\n",
       "      <td>85051.0</td>\n",
       "      <td>3</td>\n",
       "      <td>2.5</td>\n",
       "      <td>AZ</td>\n",
       "    </tr>\n",
       "    <tr>\n",
       "      <th>2</th>\n",
       "      <td>2</td>\n",
       "      <td>['Alcohol: none', \"Ambience: {'romantic': Fals...</td>\n",
       "      <td>hEcn9k6ONd5n2mq0lB2aew</td>\n",
       "      <td>['American (Traditional)', 'Restaurants']</td>\n",
       "      <td>Phoenix</td>\n",
       "      <td>['Monday 6:0-22:0', 'Tuesday 6:0-22:0', 'Wedne...</td>\n",
       "      <td>1</td>\n",
       "      <td>JB's Restaurant</td>\n",
       "      <td>85051.0</td>\n",
       "      <td>24</td>\n",
       "      <td>3.5</td>\n",
       "      <td>AZ</td>\n",
       "    </tr>\n",
       "    <tr>\n",
       "      <th>3</th>\n",
       "      <td>3</td>\n",
       "      <td>['Alcohol: none', \"Ambience: {'romantic': Fals...</td>\n",
       "      <td>Ld2hhA3q3cdkptwS1fsYEg</td>\n",
       "      <td>['Restaurants', 'Noodles', 'Sushi Bars', 'Japa...</td>\n",
       "      <td>Phoenix</td>\n",
       "      <td>['Monday 11:0-21:0', 'Tuesday 11:0-21:0', 'Wed...</td>\n",
       "      <td>1</td>\n",
       "      <td>Yogi's Grill</td>\n",
       "      <td>85085.0</td>\n",
       "      <td>51</td>\n",
       "      <td>4.0</td>\n",
       "      <td>AZ</td>\n",
       "    </tr>\n",
       "    <tr>\n",
       "      <th>4</th>\n",
       "      <td>4</td>\n",
       "      <td>['BikeParking: True', 'BusinessAcceptsCreditCa...</td>\n",
       "      <td>a48i_DFln5e1oaJKNM6BUg</td>\n",
       "      <td>['Fast Food', 'Sandwiches', 'Restaurants']</td>\n",
       "      <td>Phoenix</td>\n",
       "      <td>NaN</td>\n",
       "      <td>1</td>\n",
       "      <td>Subway</td>\n",
       "      <td>85027.0</td>\n",
       "      <td>5</td>\n",
       "      <td>2.5</td>\n",
       "      <td>AZ</td>\n",
       "    </tr>\n",
       "  </tbody>\n",
       "</table>\n",
       "</div>"
      ],
      "text/plain": [
       "   Unnamed: 0                                         attributes  \\\n",
       "0           0  ['Alcohol: full_bar', \"Ambience: {'romantic': ...   \n",
       "1           1                                                NaN   \n",
       "2           2  ['Alcohol: none', \"Ambience: {'romantic': Fals...   \n",
       "3           3  ['Alcohol: none', \"Ambience: {'romantic': Fals...   \n",
       "4           4  ['BikeParking: True', 'BusinessAcceptsCreditCa...   \n",
       "\n",
       "              business_id                                         categories  \\\n",
       "0  YPavuOh2XsnRbLfl0DH2lQ  ['Restaurants', 'Waffles', 'Southern', 'Soul F...   \n",
       "1  F53MSa5SYzO9BG8c_JhskQ                      ['Vietnamese', 'Restaurants']   \n",
       "2  hEcn9k6ONd5n2mq0lB2aew          ['American (Traditional)', 'Restaurants']   \n",
       "3  Ld2hhA3q3cdkptwS1fsYEg  ['Restaurants', 'Noodles', 'Sushi Bars', 'Japa...   \n",
       "4  a48i_DFln5e1oaJKNM6BUg         ['Fast Food', 'Sandwiches', 'Restaurants']   \n",
       "\n",
       "      city                                              hours  is_open  \\\n",
       "0  Phoenix  ['Monday 9:0-22:0', 'Tuesday 9:0-22:0', 'Wedne...        1   \n",
       "1  Phoenix                                                NaN        0   \n",
       "2  Phoenix  ['Monday 6:0-22:0', 'Tuesday 6:0-22:0', 'Wedne...        1   \n",
       "3  Phoenix  ['Monday 11:0-21:0', 'Tuesday 11:0-21:0', 'Wed...        1   \n",
       "4  Phoenix                                                NaN        1   \n",
       "\n",
       "                        name  postal_code  review_count  stars state  \n",
       "0  Lo-Lo's Chicken & Waffles      85003.0          1276    4.0    AZ  \n",
       "1                   Pho Viet      85051.0             3    2.5    AZ  \n",
       "2            JB's Restaurant      85051.0            24    3.5    AZ  \n",
       "3               Yogi's Grill      85085.0            51    4.0    AZ  \n",
       "4                     Subway      85027.0             5    2.5    AZ  "
      ]
     },
     "execution_count": 34,
     "metadata": {},
     "output_type": "execute_result"
    }
   ],
   "source": [
    "df_business.head()"
   ]
  },
  {
   "cell_type": "code",
   "execution_count": 35,
   "metadata": {
    "collapsed": false
   },
   "outputs": [],
   "source": [
    "df_postal = df_business[(df_business['postal_code']== 85051.0)]"
   ]
  },
  {
   "cell_type": "code",
   "execution_count": 37,
   "metadata": {
    "collapsed": false
   },
   "outputs": [
    {
     "data": {
      "text/plain": [
       "(99, 12)"
      ]
     },
     "execution_count": 37,
     "metadata": {},
     "output_type": "execute_result"
    }
   ],
   "source": [
    "df_postal.shape"
   ]
  },
  {
   "cell_type": "code",
   "execution_count": 38,
   "metadata": {
    "collapsed": true
   },
   "outputs": [],
   "source": [
    "df_pizza = df_postal[df_postal['categories'].apply(lambda x: 'Pizza' in x )].reset_index(drop=True)"
   ]
  },
  {
   "cell_type": "code",
   "execution_count": 39,
   "metadata": {
    "collapsed": false
   },
   "outputs": [
    {
     "data": {
      "text/plain": [
       "(12, 12)"
      ]
     },
     "execution_count": 39,
     "metadata": {},
     "output_type": "execute_result"
    }
   ],
   "source": [
    "df_pizza.shape"
   ]
  },
  {
   "cell_type": "code",
   "execution_count": 40,
   "metadata": {
    "collapsed": false
   },
   "outputs": [],
   "source": [
    "df_pizza.to_csv('yelp_reviews_pizza.csv')"
   ]
  },
  {
   "cell_type": "code",
   "execution_count": 41,
   "metadata": {
    "collapsed": false
   },
   "outputs": [
    {
     "data": {
      "text/plain": [
       "stars  business_id           \n",
       "2.5    2v-8QQfMLX2PCz-0S6gISQ    1\n",
       "       DdlJsYusOm6iudcm77CPxA    1\n",
       "       MZwBo-3MTbxTln2YmyqOHQ    1\n",
       "       y4jOgvovJ8JX3yRSzu7yUg    1\n",
       "3.0    Cml4Yt5cTx64cOManHe-Gw    1\n",
       "       K0Odlnc5zKdDPwHwvQvEAA    1\n",
       "       OMV-pNZWEh9BkoYB2KNNVA    1\n",
       "3.5    O00LTi6SV8vCVND_8k1YVw    1\n",
       "       gJ7WFBtT3uSkI5eP9NlKrQ    1\n",
       "4.0    BU67sB_pedm_QsNhISvYIQ    1\n",
       "       K--ma2GS7bg1W96edq3V9g    1\n",
       "4.5    5MNYCmCtpBboglFmrjU6yw    1\n",
       "Name: stars, dtype: int64"
      ]
     },
     "execution_count": 41,
     "metadata": {},
     "output_type": "execute_result"
    }
   ],
   "source": [
    "df_pizza.groupby([\"stars\", \"business_id\"])[\"stars\"].agg(\"count\")"
   ]
  },
  {
   "cell_type": "code",
   "execution_count": 35,
   "metadata": {
    "collapsed": false
   },
   "outputs": [],
   "source": [
    "import pandas as pd\n",
    "%matplotlib inline\n",
    "import matplotlib.pyplot as plt\n",
    "df_phrase_cat = pd.read_csv(\"CategorizingPhrases_Visualization.csv\", encoding=\"latin-1\")"
   ]
  },
  {
   "cell_type": "code",
   "execution_count": 36,
   "metadata": {
    "collapsed": false
   },
   "outputs": [
    {
     "data": {
      "text/html": [
       "<div>\n",
       "<table border=\"1\" class=\"dataframe\">\n",
       "  <thead>\n",
       "    <tr style=\"text-align: right;\">\n",
       "      <th></th>\n",
       "      <th>Unnamed: 0</th>\n",
       "      <th>Positive</th>\n",
       "      <th>Negative</th>\n",
       "      <th>Total</th>\n",
       "    </tr>\n",
       "  </thead>\n",
       "  <tbody>\n",
       "    <tr>\n",
       "      <th>0</th>\n",
       "      <td>Cat A</td>\n",
       "      <td>23</td>\n",
       "      <td>13</td>\n",
       "      <td>36</td>\n",
       "    </tr>\n",
       "    <tr>\n",
       "      <th>1</th>\n",
       "      <td>Cat B</td>\n",
       "      <td>20</td>\n",
       "      <td>11</td>\n",
       "      <td>31</td>\n",
       "    </tr>\n",
       "    <tr>\n",
       "      <th>2</th>\n",
       "      <td>Cat C</td>\n",
       "      <td>35</td>\n",
       "      <td>10</td>\n",
       "      <td>45</td>\n",
       "    </tr>\n",
       "    <tr>\n",
       "      <th>3</th>\n",
       "      <td>Cat D</td>\n",
       "      <td>26</td>\n",
       "      <td>10</td>\n",
       "      <td>36</td>\n",
       "    </tr>\n",
       "    <tr>\n",
       "      <th>4</th>\n",
       "      <td>Cat E</td>\n",
       "      <td>5</td>\n",
       "      <td>2</td>\n",
       "      <td>7</td>\n",
       "    </tr>\n",
       "  </tbody>\n",
       "</table>\n",
       "</div>"
      ],
      "text/plain": [
       "  Unnamed: 0  Positive  Negative  Total\n",
       "0      Cat A        23        13     36\n",
       "1      Cat B        20        11     31\n",
       "2      Cat C        35        10     45\n",
       "3      Cat D        26        10     36\n",
       "4      Cat E         5         2      7"
      ]
     },
     "execution_count": 36,
     "metadata": {},
     "output_type": "execute_result"
    }
   ],
   "source": [
    "df_phrase_cat.head()"
   ]
  },
  {
   "cell_type": "code",
   "execution_count": 37,
   "metadata": {
    "collapsed": true
   },
   "outputs": [],
   "source": [
    "del df_phrase_cat['Total']"
   ]
  },
  {
   "cell_type": "code",
   "execution_count": 38,
   "metadata": {
    "collapsed": false
   },
   "outputs": [
    {
     "data": {
      "text/plain": [
       "<matplotlib.text.Text at 0xd620e80>"
      ]
     },
     "execution_count": 38,
     "metadata": {},
     "output_type": "execute_result"
    },
    {
     "data": {
      "image/png": "[encoded data removed]",
      "text/plain": [
       "<matplotlib.figure.Figure at 0xd2cf208>"
      ]
     },
     "metadata": {},
     "output_type": "display_data"
    }
   ],
   "source": [
    "ax=df_phrase_cat.plot.barh()\n",
    "plt.xlim([0,50])\n",
    "ax.set_yticklabels(['Experience', 'Ambience','Food','Service','Price'])\n",
    "plt.title(\"Positive/Negative Remarks for Pheonix Restaurants\")"
   ]
  },
  {
   "cell_type": "code",
   "execution_count": 39,
   "metadata": {
    "collapsed": true
   },
   "outputs": [],
   "source": [
    "import pandas as pd\n",
    "%matplotlib inline\n",
    "import matplotlib.pyplot as plt\n",
    "df_phrase_stacked = pd.read_csv(\"Phrase_visualization_stackedbar.csv\", encoding=\"latin-1\")"
   ]
  },
  {
   "cell_type": "code",
   "execution_count": 40,
   "metadata": {
    "collapsed": false
   },
   "outputs": [
    {
     "data": {
      "text/html": [
       "<div>\n",
       "<table border=\"1\" class=\"dataframe\">\n",
       "  <thead>\n",
       "    <tr style=\"text-align: right;\">\n",
       "      <th></th>\n",
       "      <th>Unnamed: 0</th>\n",
       "      <th>Positive</th>\n",
       "      <th>Negative</th>\n",
       "    </tr>\n",
       "  </thead>\n",
       "  <tbody>\n",
       "    <tr>\n",
       "      <th>0</th>\n",
       "      <td>CatA</td>\n",
       "      <td>64</td>\n",
       "      <td>36</td>\n",
       "    </tr>\n",
       "    <tr>\n",
       "      <th>1</th>\n",
       "      <td>CatB</td>\n",
       "      <td>65</td>\n",
       "      <td>35</td>\n",
       "    </tr>\n",
       "    <tr>\n",
       "      <th>2</th>\n",
       "      <td>CatC</td>\n",
       "      <td>78</td>\n",
       "      <td>22</td>\n",
       "    </tr>\n",
       "    <tr>\n",
       "      <th>3</th>\n",
       "      <td>CatD</td>\n",
       "      <td>72</td>\n",
       "      <td>28</td>\n",
       "    </tr>\n",
       "    <tr>\n",
       "      <th>4</th>\n",
       "      <td>CatE</td>\n",
       "      <td>71</td>\n",
       "      <td>29</td>\n",
       "    </tr>\n",
       "  </tbody>\n",
       "</table>\n",
       "</div>"
      ],
      "text/plain": [
       "  Unnamed: 0  Positive   Negative\n",
       "0       CatA         64        36\n",
       "1       CatB         65        35\n",
       "2       CatC         78        22\n",
       "3       CatD         72        28\n",
       "4       CatE         71        29"
      ]
     },
     "execution_count": 40,
     "metadata": {},
     "output_type": "execute_result"
    }
   ],
   "source": [
    "df_phrase_stacked.head()"
   ]
  },
  {
   "cell_type": "code",
   "execution_count": 41,
   "metadata": {
    "collapsed": false
   },
   "outputs": [
    {
     "data": {
      "image/png": "[encoded data removed]",
      "text/plain": [
       "<matplotlib.figure.Figure at 0xd775278>"
      ]
     },
     "metadata": {},
     "output_type": "display_data"
    }
   ],
   "source": [
    "ax=df_phrase_stacked.plot.bar(stacked = True)\n",
    "#type(ax)\n",
    "vals = ax.get_yticks()\n",
    "\n",
    "ax.set_yticklabels(['{:.0f}%'.format(y) for y in vals])\n",
    "ax.set_xticklabels(['Experience', 'Ambience','Food','Service','Price'],rotation='horizontal')\n",
    "\n",
    "plt.title(\"Ratio of Positive/Negative Remarks for Pheonix Restaurants\")\n",
    "plt.show()"
   ]
  },
  {
   "cell_type": "code",
   "execution_count": 53,
   "metadata": {
    "collapsed": false
   },
   "outputs": [
    {
     "data": {
      "text/html": [
       "<div>\n",
       "<table border=\"1\" class=\"dataframe\">\n",
       "  <thead>\n",
       "    <tr style=\"text-align: right;\">\n",
       "      <th></th>\n",
       "      <th>Unnamed: 0</th>\n",
       "      <th>attributes</th>\n",
       "      <th>business_id</th>\n",
       "      <th>categories</th>\n",
       "      <th>city</th>\n",
       "      <th>hours</th>\n",
       "      <th>is_open</th>\n",
       "      <th>name</th>\n",
       "      <th>postal_code</th>\n",
       "      <th>review_count</th>\n",
       "      <th>stars</th>\n",
       "      <th>state</th>\n",
       "    </tr>\n",
       "  </thead>\n",
       "  <tbody>\n",
       "    <tr>\n",
       "      <th>0</th>\n",
       "      <td>224</td>\n",
       "      <td>['Alcohol: none', \"Ambience: {'romantic': Fals...</td>\n",
       "      <td>gJ7WFBtT3uSkI5eP9NlKrQ</td>\n",
       "      <td>['Pizza', 'Chicken Wings', 'Restaurants']</td>\n",
       "      <td>Phoenix</td>\n",
       "      <td>['Monday 11:30-23:0', 'Tuesday 11:30-23:0', 'W...</td>\n",
       "      <td>0</td>\n",
       "      <td>Cleopatra Bistro Pizza</td>\n",
       "      <td>85051.0</td>\n",
       "      <td>12</td>\n",
       "      <td>3.5</td>\n",
       "      <td>AZ</td>\n",
       "    </tr>\n",
       "    <tr>\n",
       "      <th>1</th>\n",
       "      <td>599</td>\n",
       "      <td>['Alcohol: none', 'BikeParking: False', 'Busin...</td>\n",
       "      <td>2v-8QQfMLX2PCz-0S6gISQ</td>\n",
       "      <td>['Restaurants', 'Fast Food', 'Pizza']</td>\n",
       "      <td>Phoenix</td>\n",
       "      <td>['Monday 10:30-0:0', 'Tuesday 10:30-0:0', 'Wed...</td>\n",
       "      <td>1</td>\n",
       "      <td>Papa John's Pizza</td>\n",
       "      <td>85051.0</td>\n",
       "      <td>6</td>\n",
       "      <td>2.5</td>\n",
       "      <td>AZ</td>\n",
       "    </tr>\n",
       "    <tr>\n",
       "      <th>2</th>\n",
       "      <td>635</td>\n",
       "      <td>['Alcohol: beer_and_wine', \"Ambience: {'romant...</td>\n",
       "      <td>MZwBo-3MTbxTln2YmyqOHQ</td>\n",
       "      <td>['Pizza', 'Mexican', 'Seafood', 'Cajun/Creole'...</td>\n",
       "      <td>Phoenix</td>\n",
       "      <td>NaN</td>\n",
       "      <td>0</td>\n",
       "      <td>Crab Zone</td>\n",
       "      <td>85051.0</td>\n",
       "      <td>24</td>\n",
       "      <td>2.5</td>\n",
       "      <td>AZ</td>\n",
       "    </tr>\n",
       "    <tr>\n",
       "      <th>3</th>\n",
       "      <td>856</td>\n",
       "      <td>['Alcohol: none', \"Ambience: {'romantic': Fals...</td>\n",
       "      <td>5MNYCmCtpBboglFmrjU6yw</td>\n",
       "      <td>['Pizza', 'Chicken Wings', 'Italian', 'Salad',...</td>\n",
       "      <td>Phoenix</td>\n",
       "      <td>['Monday 11:0-21:0', 'Tuesday 11:0-21:0', 'Wed...</td>\n",
       "      <td>1</td>\n",
       "      <td>R.Kidd's Pizza &amp; Wings</td>\n",
       "      <td>85051.0</td>\n",
       "      <td>36</td>\n",
       "      <td>4.5</td>\n",
       "      <td>AZ</td>\n",
       "    </tr>\n",
       "    <tr>\n",
       "      <th>4</th>\n",
       "      <td>1534</td>\n",
       "      <td>['Alcohol: none', 'BusinessAcceptsCreditCards:...</td>\n",
       "      <td>Cml4Yt5cTx64cOManHe-Gw</td>\n",
       "      <td>['Sandwiches', 'Restaurants', 'Pizza', 'Chicke...</td>\n",
       "      <td>Phoenix</td>\n",
       "      <td>['Monday 10:0-0:0', 'Tuesday 10:0-0:0', 'Wedne...</td>\n",
       "      <td>1</td>\n",
       "      <td>Domino's Pizza</td>\n",
       "      <td>85051.0</td>\n",
       "      <td>8</td>\n",
       "      <td>3.0</td>\n",
       "      <td>AZ</td>\n",
       "    </tr>\n",
       "  </tbody>\n",
       "</table>\n",
       "</div>"
      ],
      "text/plain": [
       "   Unnamed: 0                                         attributes  \\\n",
       "0         224  ['Alcohol: none', \"Ambience: {'romantic': Fals...   \n",
       "1         599  ['Alcohol: none', 'BikeParking: False', 'Busin...   \n",
       "2         635  ['Alcohol: beer_and_wine', \"Ambience: {'romant...   \n",
       "3         856  ['Alcohol: none', \"Ambience: {'romantic': Fals...   \n",
       "4        1534  ['Alcohol: none', 'BusinessAcceptsCreditCards:...   \n",
       "\n",
       "              business_id                                         categories  \\\n",
       "0  gJ7WFBtT3uSkI5eP9NlKrQ          ['Pizza', 'Chicken Wings', 'Restaurants']   \n",
       "1  2v-8QQfMLX2PCz-0S6gISQ              ['Restaurants', 'Fast Food', 'Pizza']   \n",
       "2  MZwBo-3MTbxTln2YmyqOHQ  ['Pizza', 'Mexican', 'Seafood', 'Cajun/Creole'...   \n",
       "3  5MNYCmCtpBboglFmrjU6yw  ['Pizza', 'Chicken Wings', 'Italian', 'Salad',...   \n",
       "4  Cml4Yt5cTx64cOManHe-Gw  ['Sandwiches', 'Restaurants', 'Pizza', 'Chicke...   \n",
       "\n",
       "      city                                              hours  is_open  \\\n",
       "0  Phoenix  ['Monday 11:30-23:0', 'Tuesday 11:30-23:0', 'W...        0   \n",
       "1  Phoenix  ['Monday 10:30-0:0', 'Tuesday 10:30-0:0', 'Wed...        1   \n",
       "2  Phoenix                                                NaN        0   \n",
       "3  Phoenix  ['Monday 11:0-21:0', 'Tuesday 11:0-21:0', 'Wed...        1   \n",
       "4  Phoenix  ['Monday 10:0-0:0', 'Tuesday 10:0-0:0', 'Wedne...        1   \n",
       "\n",
       "                     name  postal_code  review_count  stars state  \n",
       "0  Cleopatra Bistro Pizza      85051.0            12    3.5    AZ  \n",
       "1       Papa John's Pizza      85051.0             6    2.5    AZ  \n",
       "2               Crab Zone      85051.0            24    2.5    AZ  \n",
       "3  R.Kidd's Pizza & Wings      85051.0            36    4.5    AZ  \n",
       "4          Domino's Pizza      85051.0             8    3.0    AZ  "
      ]
     },
     "execution_count": 53,
     "metadata": {},
     "output_type": "execute_result"
    }
   ],
   "source": [
    "df_pizza.head()"
   ]
  },
  {
   "cell_type": "code",
   "execution_count": 54,
   "metadata": {
    "collapsed": false
   },
   "outputs": [],
   "source": [
    "low_star = df_pizza[df_pizza['stars'] < 3]"
   ]
  },
  {
   "cell_type": "code",
   "execution_count": 56,
   "metadata": {
    "collapsed": true
   },
   "outputs": [],
   "source": [
    "high_star = df_pizza[df_pizza['stars'] > 3]"
   ]
  },
  {
   "cell_type": "code",
   "execution_count": 96,
   "metadata": {
    "collapsed": true
   },
   "outputs": [],
   "source": [
    "high_star_bid = list(high_star['business_id'])"
   ]
  },
  {
   "cell_type": "code",
   "execution_count": 57,
   "metadata": {
    "collapsed": false
   },
   "outputs": [],
   "source": [
    "low_star_bid = list(low_star['business_id'])"
   ]
  },
  {
   "cell_type": "code",
   "execution_count": 65,
   "metadata": {
    "collapsed": false
   },
   "outputs": [
    {
     "data": {
      "text/plain": [
       "['2v-8QQfMLX2PCz-0S6gISQ',\n",
       " 'MZwBo-3MTbxTln2YmyqOHQ',\n",
       " 'DdlJsYusOm6iudcm77CPxA',\n",
       " 'y4jOgvovJ8JX3yRSzu7yUg']"
      ]
     },
     "execution_count": 65,
     "metadata": {},
     "output_type": "execute_result"
    }
   ],
   "source": [
    "low_star_bid"
   ]
  },
  {
   "cell_type": "code",
   "execution_count": 59,
   "metadata": {
    "collapsed": true
   },
   "outputs": [],
   "source": [
    "df_pizza_phrases = pd.read_csv(\"Phoenix_restaurant_reviews_Pizza_Results.csv\", encoding=\"latin-1\")"
   ]
  },
  {
   "cell_type": "code",
   "execution_count": 60,
   "metadata": {
    "collapsed": false
   },
   "outputs": [
    {
     "data": {
      "text/plain": [
       "(27858, 7)"
      ]
     },
     "execution_count": 60,
     "metadata": {},
     "output_type": "execute_result"
    }
   ],
   "source": [
    "df_pizza_phrases.shape"
   ]
  },
  {
   "cell_type": "code",
   "execution_count": 61,
   "metadata": {
    "collapsed": true
   },
   "outputs": [],
   "source": [
    "df_pizza_bid = list(df_pizza_phrases['business_id'])"
   ]
  },
  {
   "cell_type": "code",
   "execution_count": 62,
   "metadata": {
    "collapsed": false
   },
   "outputs": [
    {
     "data": {
      "text/plain": [
       "27858"
      ]
     },
     "execution_count": 62,
     "metadata": {},
     "output_type": "execute_result"
    }
   ],
   "source": [
    "len(df_pizza_bid)"
   ]
  },
  {
   "cell_type": "code",
   "execution_count": 83,
   "metadata": {
    "collapsed": false
   },
   "outputs": [
    {
     "data": {
      "text/plain": [
       "21105    [u' feat/nearly impossible']\n",
       "21106                              []\n",
       "Name: negative_phrases, dtype: object"
      ]
     },
     "execution_count": 83,
     "metadata": {},
     "output_type": "execute_result"
    }
   ],
   "source": [
    "df_pizza_phrases.loc[df_pizza_phrases['business_id'] == '2v-8QQfMLX2PCz-0S6gISQ', 'negative_phrases']"
   ]
  },
  {
   "cell_type": "code",
   "execution_count": 98,
   "metadata": {
    "collapsed": false
   },
   "outputs": [
    {
     "name": "stdout",
     "output_type": "stream",
     "text": [
      "Business ID 2v-8QQfMLX2PCz-0S6gISQ not performing well due to\n",
      "----------------------------------------------------------------------\n",
      "21105    [u' feat/nearly impossible']\n",
      "21106                              []\n",
      "Name: negative_phrases, dtype: object\n",
      "**********************************************************************\n",
      "Business ID MZwBo-3MTbxTln2YmyqOHQ not performing well due to\n",
      "----------------------------------------------------------------------\n",
      "17905                    [u' very weird', u' really dark']\n",
      "17906                                       [u\" n't sure\"]\n",
      "17907                                        [u' so dark']\n",
      "17908    [u' little random', u' chicken tenders', u' li...\n",
      "17909                                                   []\n",
      "17910                                                   []\n",
      "17911                               [u' completely empty']\n",
      "17912                                                   []\n",
      "17913                                       [u' ice cold']\n",
      "17914                      [u' not good', u' very hidden']\n",
      "17915                                                   []\n",
      "17916                                                   []\n",
      "17917                               [u' completely empty']\n",
      "17918        [u' small dab', u' bad meal', u' doubly sad']\n",
      "17919                                    [u' wrong sorry']\n",
      "17920                                                   []\n",
      "17921                            [u' Absolutely horrible']\n",
      "17922                                   [u' little messy']\n",
      "17923             [u' not large', u' virtually tasteless']\n",
      "17924                                     [u' dirty dive']\n",
      "Name: negative_phrases, dtype: object\n",
      "**********************************************************************\n",
      "Business ID DdlJsYusOm6iudcm77CPxA not performing well due to\n",
      "----------------------------------------------------------------------\n",
      "5262                                      [u' very hard']\n",
      "5263    [u\" n't good\", u\" n't good\", u' Not sure', u' ...\n",
      "5264                                                   []\n",
      "5265    [u' so anxious', u' ridiculous ones', u' irrit...\n",
      "5266             [u' horrible experience', u' rude lady']\n",
      "5267                                                   []\n",
      "5268                                [u' chicken fingers']\n",
      "5269                                         [u' So sad']\n",
      "5270                                 [u' little options']\n",
      "5271                 [u' So disappointed', u' super mad']\n",
      "5272                                                   []\n",
      "5273                                                   []\n",
      "5274                                     [u' thin crust']\n",
      "5275                                                   []\n",
      "5276                  [u' extremely rude', u' shit load']\n",
      "5277                                    [u' Very little']\n",
      "5278    [u' raw chicken', u' so bad', u' very expensive']\n",
      "5279    [u' equally-yummy-sounding chicken', u' totall...\n",
      "5280                                                   []\n",
      "5281                                    [u' tough crowd']\n",
      "5282                                                   []\n",
      "5283                                                   []\n",
      "5284                                      [u' small dog']\n",
      "5285                                                   []\n",
      "5286                         [u' wet dough', u' sad ice']\n",
      "5287                                 [u' tasteless food']\n",
      "5288                                                   []\n",
      "5289                                                   []\n",
      "5290    [u' Absolutely terrible', u' wrong number', u'...\n",
      "5291                                                   []\n",
      "5292                  [u' Very slow', u' very expensive']\n",
      "5293                                                   []\n",
      "5294                                       [u' too late']\n",
      "5295                                                   []\n",
      "Name: negative_phrases, dtype: object\n",
      "**********************************************************************\n",
      "Business ID y4jOgvovJ8JX3yRSzu7yUg not performing well due to\n",
      "----------------------------------------------------------------------\n",
      "12306                                              []\n",
      "12307    [u' Italian cheesy', u' Ridiculous service']\n",
      "12308                                              []\n",
      "12309                                              []\n",
      "Name: negative_phrases, dtype: object\n",
      "**********************************************************************\n"
     ]
    }
   ],
   "source": [
    "for id in low_star_bid:\n",
    "    if id in df_pizza_bid:\n",
    "        print(\"Business ID\", id, \"not performing well due to\")\n",
    "        print(\"-\"*70)\n",
    "        print(df_pizza_phrases.loc[df_pizza_phrases['business_id'] == id, 'negative_phrases'])\n",
    "    else:\n",
    "        continue\n",
    "    print(\"*\"*70)"
   ]
  },
  {
   "cell_type": "code",
   "execution_count": 97,
   "metadata": {
    "collapsed": false
   },
   "outputs": [
    {
     "name": "stdout",
     "output_type": "stream",
     "text": [
      "Business ID gJ7WFBtT3uSkI5eP9NlKrQ performing well due to\n",
      "----------------------------------------------------------------------\n",
      "596    [u' great pizza', u' free samples', u' really ...\n",
      "597                                       [u' so fresh']\n",
      "598               [u' very impressed', u' just amazing']\n",
      "599                                                   []\n",
      "600    [u' fresh oregano', u' fresh oregeno', u' hot ...\n",
      "601    [u' very impressed', u' very impressed', u' GR...\n",
      "602                                        [u\" n't bad\"]\n",
      "603                                                   []\n",
      "604                    [u' Really good', u' nice place']\n",
      "605              [u' delicious cheese', u' so friendly']\n",
      "Name: positive_phrases, dtype: object\n",
      "**********************************************************************\n",
      "Business ID 5MNYCmCtpBboglFmrjU6yw performing well due to\n",
      "----------------------------------------------------------------------\n",
      "17608    [u' great pizza', u' delicious chicken', u' mo...\n",
      "17609                                                   []\n",
      "17610                                     [u' quick bite']\n",
      "17611                   [u' not bad', u' really friendly']\n",
      "17612                                       [u' -as good']\n",
      "17613    [u' good time', u' authentic pizza', u' great ...\n",
      "17614                                                   []\n",
      "17615                       [u' pretty good', u' so many']\n",
      "17616                                      [u' good size']\n",
      "17617       [u' good pizza', u' as nice', u' warm inside']\n",
      "17618                                       [u' good one']\n",
      "17619                  [u' damn good', u' Favorite thing']\n",
      "17620    [u' good pizza', u' excellent pizza', u' hot s...\n",
      "17621                   [u' cheap pizza', u' good option']\n",
      "17622                    [u' more dough', u' pretty much']\n",
      "17623    [u' pleasant surprise', u' great reviews', u' ...\n",
      "17624                                      [u' Hot wings']\n",
      "17625                   [u' Great place', u' really good']\n",
      "17626    [u' Not bad', u' great wings', u' good crust',...\n",
      "17627                                     [u' good deals']\n",
      "17628                    [u' great wing', u' great price']\n",
      "17629                                     [u' mild wings']\n",
      "17630                                       [u' too many']\n",
      "17631                   [u' pretty good', u' nice change']\n",
      "17632    [u' Fantastic food', u' So many', u' great cho...\n",
      "17633    [u' fair prices', u' always good', u' good tas...\n",
      "17634              [u' favorite place', u' very friendly']\n",
      "17635                                    [u' really good']\n",
      "17636                                   [u' Amazing food']\n",
      "17637                                  [u' awesome wings']\n",
      "17638                                     [u' mild sauce']\n",
      "Name: positive_phrases, dtype: object\n",
      "**********************************************************************\n",
      "Business ID BU67sB_pedm_QsNhISvYIQ performing well due to\n",
      "----------------------------------------------------------------------\n",
      "182    [u' Good people', u' Great food', u' Very good...\n",
      "183                                     [u' sweet heat']\n",
      "184    [u' really good', u' so unique', u' great place']\n",
      "185           [u' great atmosphere', u' delicious food']\n",
      "186               [u' awesome owners', u' good reviews']\n",
      "187                     [u' sweet heat', u' sweet heat']\n",
      "188                                     [u' great food']\n",
      "189                   [u' not terrible', u' still cool']\n",
      "190       [u' FREE video', u' great job', u' very cool']\n",
      "191    [u' huge video', u' pretty awesome', u' really...\n",
      "192                      [u' grand baby', u' sweet hot']\n",
      "193    [u' good tho', u' really good', u' pretty good...\n",
      "194                  [u' always happy', u' fudgy magic']\n",
      "195    [u' sweet heat', u' sweet heat', u' really good']\n",
      "196       [u' own mini', u' real quick', u' Good times']\n",
      "197    [u' more eclectic', u' comic books', u' cool i...\n",
      "198                              [u' fresh ingredients']\n",
      "Name: positive_phrases, dtype: object\n",
      "**********************************************************************\n",
      "Business ID O00LTi6SV8vCVND_8k1YVw performing well due to\n",
      "----------------------------------------------------------------------\n",
      "25278                                                   []\n",
      "25279    [u' Good games', u' good food', u' good prizes...\n",
      "25280                                     [u' good thing']\n",
      "25281                         [u' so many', u' nice show']\n",
      "25282                                  [u' amazing pizza']\n",
      "25283    [u' great playing', u' very friendly', u' Very...\n",
      "25284                                 [u' happy birthday']\n",
      "25285                                    [u' good choice']\n",
      "25286                 [u' sure everything', u' very good']\n",
      "25287    [u' innovative ingredients', u' powerful wizar...\n",
      "25288    [u' awesome experience', u' fresh salad', u' g...\n",
      "25289               [u' pretty hungry', u' good customer']\n",
      "25290    [u' Family friendly', u' So glad', u' very nic...\n",
      "25291        [u' pretty good', u' just ok', u' good ones']\n",
      "25292                                    [u' really nice']\n",
      "25293                [u' full compliment', u' Many games']\n",
      "25294                                                   []\n",
      "Name: positive_phrases, dtype: object\n",
      "**********************************************************************\n",
      "Business ID K--ma2GS7bg1W96edq3V9g performing well due to\n",
      "----------------------------------------------------------------------\n",
      "210    [u' great pizza', u' free samples', u' really ...\n",
      "211         [u' wonderful flavor', u' also outstanding']\n",
      "212                                    [u' pretty fast']\n",
      "Name: positive_phrases, dtype: object\n",
      "**********************************************************************\n"
     ]
    }
   ],
   "source": [
    "for id in high_star_bid:\n",
    "    if id in df_pizza_bid:\n",
    "        print(\"Business ID\", id, \"performing well due to\")\n",
    "        print(\"-\"*70)\n",
    "        print(df_pizza_phrases.loc[df_pizza_phrases['business_id'] == id, 'positive_phrases'])\n",
    "    else:\n",
    "        continue\n",
    "    print(\"*\"*70)"
   ]
  },
  {
   "cell_type": "markdown",
   "metadata": {},
   "source": [
    "Looking at the negative phrases of the low star restaurants(<3) and the positive phrases of the well-performing restaurants(Ratings >3), overall people seem to be complaining a lot about the quality of food, the food being unnecessarily expensive and bad service in the low-performing restaurants. So these things fall under the five categories that we had created. So it's fair to say that having provided the qualitativ feedback about these low-performing restaurants, we are helping them improve their business and be competent in the area with other successful restaurants. Only drawback is if we could avoid the eye-balling of phrases between two types of restaurants and automate this process of providing suggestions, it would be great. "
   ]
  },
  {
   "cell_type": "code",
   "execution_count": null,
   "metadata": {
    "collapsed": true
   },
   "outputs": [],
   "source": []
  }
 ],
 "metadata": {
  "anaconda-cloud": {},
  "kernelspec": {
   "display_name": "Python [default]",
   "language": "python",
   "name": "python2"
  },
  "language_info": {
   "codemirror_mode": {
    "name": "ipython",
    "version": 2
   },
   "file_extension": ".py",
   "mimetype": "text/x-python",
   "name": "python",
   "nbconvert_exporter": "python",
   "pygments_lexer": "ipython2",
   "version": "2.7.12"
  }
 },
 "nbformat": 4,
 "nbformat_minor": 1
}
